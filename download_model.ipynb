{
 "cells": [
  {
   "cell_type": "code",
   "execution_count": 2,
   "id": "0895cf4c",
   "metadata": {},
   "outputs": [],
   "source": [
    "import mlflow\n",
    "import os\n",
    "import shutil"
   ]
  },
  {
   "cell_type": "code",
   "execution_count": 4,
   "id": "38eb4046",
   "metadata": {},
   "outputs": [
    {
     "name": "stdout",
     "output_type": "stream",
     "text": [
      "Connecting to MLflow at: http://localhost:5000\n",
      "Downloading model from 'models:/quality-predictor@production' to './model_artifacts'...\n"
     ]
    },
    {
     "name": "stderr",
     "output_type": "stream",
     "text": [
      "Downloading artifacts: 100%|██████████| 6/6 [00:00<00:00, 808.80it/s]  "
     ]
    },
    {
     "name": "stdout",
     "output_type": "stream",
     "text": [
      "Model downloaded successfully.\n"
     ]
    },
    {
     "name": "stderr",
     "output_type": "stream",
     "text": [
      "\n"
     ]
    }
   ],
   "source": [
    "MLFLOW_TRACKING_URI = os.environ.get(\"MLFLOW_TRACKING_URI\", \"http://localhost:5000\")\n",
    "MODEL_NAME = \"quality-predictor\"\n",
    "MODEL_ALIAS = \"production\"\n",
    "OUTPUT_PATH = \"./model_artifacts\" # The local folder where the model will be saved\n",
    "# ---------------------\n",
    "\n",
    "def download_production_model():\n",
    "    \"\"\"\n",
    "    Connects to the MLflow server, downloads the production model,\n",
    "    and saves it to a local directory.\n",
    "    \"\"\"\n",
    "    print(f\"Connecting to MLflow at: {MLFLOW_TRACKING_URI}\")\n",
    "    mlflow.set_tracking_uri(MLFLOW_TRACKING_URI)\n",
    "    \n",
    "    model_uri = f\"models:/{MODEL_NAME}@{MODEL_ALIAS}\"\n",
    "    \n",
    "    # Clean up any old model artifacts before downloading\n",
    "    if os.path.exists(OUTPUT_PATH):\n",
    "        print(f\"Removing existing model directory: {OUTPUT_PATH}\")\n",
    "        shutil.rmtree(OUTPUT_PATH)\n",
    "        \n",
    "    print(f\"Downloading model from '{model_uri}' to '{OUTPUT_PATH}'...\")\n",
    "    \n",
    "    # This is the key MLflow command to download the files\n",
    "    mlflow.artifacts.download_artifacts(\n",
    "        artifact_uri=model_uri,\n",
    "        dst_path=OUTPUT_PATH\n",
    "    )\n",
    "    \n",
    "    print(\"Model downloaded successfully.\")\n",
    "\n",
    "if __name__ == \"__main__\":\n",
    "    download_production_model()"
   ]
  },
  {
   "cell_type": "code",
   "execution_count": 3,
   "id": "e1977ef2",
   "metadata": {},
   "outputs": [
    {
     "name": "stderr",
     "output_type": "stream",
     "text": [
      "2025/08/19 20:58:36 INFO mlflow.pyfunc: To install the dependencies that were used to train the model, run the following command: '%pip install -r /workspaces/QualityPrediction/model_artifacts/requirements.txt'.\n"
     ]
    },
    {
     "data": {
      "text/plain": [
       "'/workspaces/QualityPrediction/model_artifacts/requirements.txt'"
      ]
     },
     "execution_count": 3,
     "metadata": {},
     "output_type": "execute_result"
    }
   ],
   "source": [
    "mlflow.pyfunc.get_model_dependencies('model_artifacts')"
   ]
  },
  {
   "cell_type": "code",
   "execution_count": 4,
   "id": "83225afb",
   "metadata": {},
   "outputs": [
    {
     "data": {
      "text/plain": [
       "'0.116.1'"
      ]
     },
     "execution_count": 4,
     "metadata": {},
     "output_type": "execute_result"
    }
   ],
   "source": [
    "import fastapi\n",
    "import pydantic\n",
    "fastapi.__version__\n",
    "#pydantic.__version__\n"
   ]
  }
 ],
 "metadata": {
  "kernelspec": {
   "display_name": "Python 3",
   "language": "python",
   "name": "python3"
  },
  "language_info": {
   "codemirror_mode": {
    "name": "ipython",
    "version": 3
   },
   "file_extension": ".py",
   "mimetype": "text/x-python",
   "name": "python",
   "nbconvert_exporter": "python",
   "pygments_lexer": "ipython3",
   "version": "3.12.1"
  }
 },
 "nbformat": 4,
 "nbformat_minor": 5
}
